{
 "cells": [
  {
   "cell_type": "code",
   "execution_count": 5,
   "id": "9db66dbb",
   "metadata": {},
   "outputs": [
    {
     "name": "stdout",
     "output_type": "stream",
     "text": [
      "Set parameter Username\n",
      "Academic license - for non-commercial use only - expires 2024-03-30\n",
      "Gurobi Optimizer version 9.5.2 build v9.5.2rc0 (mac64[arm])\n",
      "Thread count: 8 physical cores, 8 logical processors, using up to 8 threads\n",
      "Optimize a model with 3 rows, 2 columns and 4 nonzeros\n",
      "Model fingerprint: 0xf24b2558\n",
      "Coefficient statistics:\n",
      "  Matrix range     [1e+00, 1e+00]\n",
      "  Objective range  [1e+01, 1e+01]\n",
      "  Bounds range     [0e+00, 0e+00]\n",
      "  RHS range        [1e+00, 1e+00]\n",
      "Presolve removed 3 rows and 2 columns\n",
      "Presolve time: 0.00s\n",
      "Presolve: All rows and columns removed\n",
      "Iteration    Objective       Primal Inf.    Dual Inf.      Time\n",
      "       0    1.0000000e+01   0.000000e+00   0.000000e+00      0s\n",
      "\n",
      "Solved in 0 iterations and 0.00 seconds (0.00 work units)\n",
      "Optimal objective  1.000000000e+01\n",
      "\n",
      "User-callback calls 29, time in user-callback 0.00 sec\n",
      "\n",
      "0.0\n"
     ]
    }
   ],
   "source": [
    "using JuMP, Gurobi\n",
    "\n",
    "model = Model(Gurobi.Optimizer)\n",
    "@variable(model, x[1:2] >= 0)\n",
    "\n",
    "@constraint(model, s1, x[1] <= 1)\n",
    "@constraint(model, s2, x[2] <= 1)\n",
    "@constraint(model, pi, x[1] - x[2] == 0)\n",
    "@objective(model, Max, 10 * x[1])\n",
    "\n",
    "optimize!(model)\n",
    "\n",
    "\n",
    "current_x = value.(model[:pi])\n",
    "println()\n",
    "println(current_x)"
   ]
  },
  {
   "cell_type": "code",
   "execution_count": null,
   "id": "003b24c0",
   "metadata": {},
   "outputs": [],
   "source": []
  }
 ],
 "metadata": {
  "kernelspec": {
   "display_name": "Julia 1.8.5",
   "language": "julia",
   "name": "julia-1.8"
  },
  "language_info": {
   "file_extension": ".jl",
   "mimetype": "application/julia",
   "name": "julia",
   "version": "1.8.5"
  }
 },
 "nbformat": 4,
 "nbformat_minor": 5
}
